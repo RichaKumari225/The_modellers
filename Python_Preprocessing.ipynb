{
 "cells": [
  {
   "cell_type": "code",
   "execution_count": 1,
   "id": "a6b690e3-2e99-40a3-b2c5-027a361ee67a",
   "metadata": {},
   "outputs": [],
   "source": [
    "# Importing all the essential libraries to work on.\n",
    "import os\n",
    "from sqlalchemy import create_engine\n",
    "import glob\n",
    "import pandas as pd\n",
    "import matplotlib.pyplot as plt\n",
    "import seaborn as sns\n",
    "import numpy as np\n",
    "import gdown\n",
    "import mysql.connector"
   ]
  },
  {
   "cell_type": "code",
   "execution_count": null,
   "id": "f26b0005-2715-49db-8dd6-2d694dfd2ed5",
   "metadata": {},
   "outputs": [],
   "source": [
    "https://drive.google.com/file/d/1vKJ4mIvVvUTVbr28Muq3hwF1nAM9vlih/view?usp=sharing"
   ]
  },
  {
   "cell_type": "code",
   "execution_count": 3,
   "id": "edb06b86-97c1-4073-bf72-f307975dd7ea",
   "metadata": {},
   "outputs": [
    {
     "name": "stderr",
     "output_type": "stream",
     "text": [
      "Downloading...\n",
      "From: https://drive.google.com/uc?id=1vKJ4mIvVvUTVbr28Muq3hwF1nAM9vlih\n",
      "To: C:\\Users\\HP\\Jupyter Python programs\\The_Modellers\\startup_funding.csv\n",
      "100%|██████████| 426k/426k [00:00<00:00, 1.92MB/s]\n"
     ]
    }
   ],
   "source": [
    "# Google Drive file ID\n",
    "file_id = \"1vKJ4mIvVvUTVbr28Muq3hwF1nAM9vlih\"\n",
    "\n",
    "# Output filename\n",
    "output_file = \"startup_funding.csv\"\n",
    "\n",
    "# Download the file from Google Drive\n",
    "gdown.download(f\"https://drive.google.com/uc?id={file_id}\", output_file, quiet=False)\n",
    "\n",
    "# Load dataset into Pandas DataFrame\n",
    "df = pd.read_csv(output_file)\n",
    "\n",
    "# Preview dataset before cleaning"
   ]
  },
  {
   "cell_type": "code",
   "execution_count": 5,
   "id": "be09ddd9-c21a-4c98-b697-70ccad8944cc",
   "metadata": {},
   "outputs": [
    {
     "data": {
      "text/html": [
       "<div>\n",
       "<style scoped>\n",
       "    .dataframe tbody tr th:only-of-type {\n",
       "        vertical-align: middle;\n",
       "    }\n",
       "\n",
       "    .dataframe tbody tr th {\n",
       "        vertical-align: top;\n",
       "    }\n",
       "\n",
       "    .dataframe thead th {\n",
       "        text-align: right;\n",
       "    }\n",
       "</style>\n",
       "<table border=\"1\" class=\"dataframe\">\n",
       "  <thead>\n",
       "    <tr style=\"text-align: right;\">\n",
       "      <th></th>\n",
       "      <th>Sr No</th>\n",
       "      <th>Date dd/mm/yyyy</th>\n",
       "      <th>Startup Name</th>\n",
       "      <th>Industry Vertical</th>\n",
       "      <th>SubVertical</th>\n",
       "      <th>City  Location</th>\n",
       "      <th>Investors Name</th>\n",
       "      <th>InvestmentnType</th>\n",
       "      <th>Amount in USD</th>\n",
       "      <th>Remarks</th>\n",
       "    </tr>\n",
       "  </thead>\n",
       "  <tbody>\n",
       "    <tr>\n",
       "      <th>0</th>\n",
       "      <td>1</td>\n",
       "      <td>09/01/2020</td>\n",
       "      <td>BYJU’S</td>\n",
       "      <td>E-Tech</td>\n",
       "      <td>E-learning</td>\n",
       "      <td>Bengaluru</td>\n",
       "      <td>Tiger Global Management</td>\n",
       "      <td>Private Equity Round</td>\n",
       "      <td>20,00,00,000</td>\n",
       "      <td>NaN</td>\n",
       "    </tr>\n",
       "    <tr>\n",
       "      <th>1</th>\n",
       "      <td>2</td>\n",
       "      <td>13/01/2020</td>\n",
       "      <td>Shuttl</td>\n",
       "      <td>Transportation</td>\n",
       "      <td>App based shuttle service</td>\n",
       "      <td>Gurgaon</td>\n",
       "      <td>Susquehanna Growth Equity</td>\n",
       "      <td>Series C</td>\n",
       "      <td>80,48,394</td>\n",
       "      <td>NaN</td>\n",
       "    </tr>\n",
       "    <tr>\n",
       "      <th>2</th>\n",
       "      <td>3</td>\n",
       "      <td>09/01/2020</td>\n",
       "      <td>Mamaearth</td>\n",
       "      <td>E-commerce</td>\n",
       "      <td>Retailer of baby and toddler products</td>\n",
       "      <td>Bengaluru</td>\n",
       "      <td>Sequoia Capital India</td>\n",
       "      <td>Series B</td>\n",
       "      <td>1,83,58,860</td>\n",
       "      <td>NaN</td>\n",
       "    </tr>\n",
       "    <tr>\n",
       "      <th>3</th>\n",
       "      <td>4</td>\n",
       "      <td>02/01/2020</td>\n",
       "      <td>https://www.wealthbucket.in/</td>\n",
       "      <td>FinTech</td>\n",
       "      <td>Online Investment</td>\n",
       "      <td>New Delhi</td>\n",
       "      <td>Vinod Khatumal</td>\n",
       "      <td>Pre-series A</td>\n",
       "      <td>30,00,000</td>\n",
       "      <td>NaN</td>\n",
       "    </tr>\n",
       "    <tr>\n",
       "      <th>4</th>\n",
       "      <td>5</td>\n",
       "      <td>02/01/2020</td>\n",
       "      <td>Fashor</td>\n",
       "      <td>Fashion and Apparel</td>\n",
       "      <td>Embroiled Clothes For Women</td>\n",
       "      <td>Mumbai</td>\n",
       "      <td>Sprout Venture Partners</td>\n",
       "      <td>Seed Round</td>\n",
       "      <td>18,00,000</td>\n",
       "      <td>NaN</td>\n",
       "    </tr>\n",
       "  </tbody>\n",
       "</table>\n",
       "</div>"
      ],
      "text/plain": [
       "   Sr No Date dd/mm/yyyy                  Startup Name    Industry Vertical  \\\n",
       "0      1      09/01/2020                        BYJU’S               E-Tech   \n",
       "1      2      13/01/2020                        Shuttl       Transportation   \n",
       "2      3      09/01/2020                     Mamaearth           E-commerce   \n",
       "3      4      02/01/2020  https://www.wealthbucket.in/              FinTech   \n",
       "4      5      02/01/2020                        Fashor  Fashion and Apparel   \n",
       "\n",
       "                             SubVertical City  Location  \\\n",
       "0                             E-learning      Bengaluru   \n",
       "1              App based shuttle service        Gurgaon   \n",
       "2  Retailer of baby and toddler products      Bengaluru   \n",
       "3                      Online Investment      New Delhi   \n",
       "4            Embroiled Clothes For Women         Mumbai   \n",
       "\n",
       "              Investors Name       InvestmentnType Amount in USD Remarks  \n",
       "0    Tiger Global Management  Private Equity Round  20,00,00,000     NaN  \n",
       "1  Susquehanna Growth Equity              Series C     80,48,394     NaN  \n",
       "2      Sequoia Capital India              Series B   1,83,58,860     NaN  \n",
       "3             Vinod Khatumal          Pre-series A     30,00,000     NaN  \n",
       "4    Sprout Venture Partners            Seed Round     18,00,000     NaN  "
      ]
     },
     "execution_count": 5,
     "metadata": {},
     "output_type": "execute_result"
    }
   ],
   "source": [
    "df.head()"
   ]
  },
  {
   "cell_type": "code",
   "execution_count": 7,
   "id": "aa714c0c-acea-4614-88ee-ac0398579751",
   "metadata": {},
   "outputs": [
    {
     "name": "stdout",
     "output_type": "stream",
     "text": [
      "<class 'pandas.core.frame.DataFrame'>\n",
      "RangeIndex: 3044 entries, 0 to 3043\n",
      "Data columns (total 10 columns):\n",
      " #   Column             Non-Null Count  Dtype \n",
      "---  ------             --------------  ----- \n",
      " 0   Sr No              3044 non-null   int64 \n",
      " 1   Date dd/mm/yyyy    3044 non-null   object\n",
      " 2   Startup Name       3044 non-null   object\n",
      " 3   Industry Vertical  2873 non-null   object\n",
      " 4   SubVertical        2108 non-null   object\n",
      " 5   City  Location     2864 non-null   object\n",
      " 6   Investors Name     3020 non-null   object\n",
      " 7   InvestmentnType    3040 non-null   object\n",
      " 8   Amount in USD      2084 non-null   object\n",
      " 9   Remarks            419 non-null    object\n",
      "dtypes: int64(1), object(9)\n",
      "memory usage: 237.9+ KB\n"
     ]
    }
   ],
   "source": [
    "df.info()"
   ]
  },
  {
   "cell_type": "code",
   "execution_count": 9,
   "id": "4ab9bd5b-c72e-47e1-b343-91b5714013d2",
   "metadata": {},
   "outputs": [],
   "source": [
    "# Rename columns for consistency\n",
    "df.rename(columns={\n",
    "    \"Date dd/mm/yyyy\": \"Date\",\n",
    "    \"City  Location\": \"City Location\",\n",
    "    \"InvestmentnType\": \"Investment Type\",\n",
    "    \"Amount in USD\": \"AmountInUSD\"\n",
    "}, inplace=True)"
   ]
  },
  {
   "cell_type": "code",
   "execution_count": 11,
   "id": "1e384227-128e-439d-95c2-9e92ce942181",
   "metadata": {},
   "outputs": [],
   "source": [
    "# Clean 'Amount in USD' column: Remove commas and convert to numeric\n",
    "df[\"AmountInUSD\"] = df[\"AmountInUSD\"].replace({\",\": \"\"}, regex=True)"
   ]
  },
  {
   "cell_type": "code",
   "execution_count": 13,
   "id": "fe687928-97f6-45ea-b4b8-b1f61df7af4a",
   "metadata": {},
   "outputs": [],
   "source": [
    "# Drop 'Remarks' column as it has too many missing values\n",
    "df.drop(columns=[\"Remarks\"], inplace=True)"
   ]
  },
  {
   "cell_type": "code",
   "execution_count": 15,
   "id": "9dbe8b24-0187-4338-9ff6-64c6f9ed16fb",
   "metadata": {},
   "outputs": [],
   "source": [
    "df[\"Date\"] = pd.to_datetime(df[\"Date\"], format=\"%d/%m/%Y\", errors=\"coerce\")\n"
   ]
  },
  {
   "cell_type": "code",
   "execution_count": 19,
   "id": "5fd88118-d131-4b5b-9a90-072714bd1016",
   "metadata": {},
   "outputs": [],
   "source": [
    "# Filling missing values in 'Industry Vertical' and 'SubVertical' with 'Unknown'\n",
    "df['Industry Vertical'].fillna('Unknown', inplace=True)"
   ]
  },
  {
   "cell_type": "code",
   "execution_count": 23,
   "id": "e13c5a3c-3655-427d-bbec-34d54b744f43",
   "metadata": {},
   "outputs": [],
   "source": [
    "df['SubVertical'].fillna('Unknown', inplace=True)"
   ]
  },
  {
   "cell_type": "code",
   "execution_count": 27,
   "id": "649aaae5-7aff-4bab-a073-ea7631c9f1ee",
   "metadata": {},
   "outputs": [],
   "source": [
    "# Filling missing values in 'City Location' with 'Undisclosed'\n",
    "df['City Location'].fillna('Undisclosed', inplace=True)"
   ]
  },
  {
   "cell_type": "code",
   "execution_count": 31,
   "id": "7f9286d6-3429-4e04-ae1f-b79bd3d8516e",
   "metadata": {},
   "outputs": [],
   "source": [
    "# Filling missing values in 'Investors Name' with 'Undisclosed'\n",
    "df['Investors Name'].fillna('Undisclosed', inplace=True)"
   ]
  },
  {
   "cell_type": "code",
   "execution_count": 35,
   "id": "d9e91742-8c54-4e7a-b92a-62506007bff6",
   "metadata": {},
   "outputs": [],
   "source": [
    "# Filling missing values in 'Investment Type' with 'Undisclosed'\n",
    "df['Investment Type'].fillna('Undisclosed', inplace=True)"
   ]
  },
  {
   "cell_type": "code",
   "execution_count": 39,
   "id": "0fcef420-54dc-49f8-9df0-8aced4857274",
   "metadata": {},
   "outputs": [],
   "source": [
    "# For 'Amount in USD', we'll fill missing values with 0 (assuming no funding disclosed)\n",
    "df['AmountInUSD'].fillna(0, inplace=True)"
   ]
  },
  {
   "cell_type": "code",
   "execution_count": 41,
   "id": "b569114f-6de7-4284-a1df-c2c2c8558e68",
   "metadata": {},
   "outputs": [
    {
     "data": {
      "text/plain": [
       "Sr No                0\n",
       "Date                 8\n",
       "Startup Name         0\n",
       "Industry Vertical    0\n",
       "SubVertical          0\n",
       "City Location        0\n",
       "Investors Name       0\n",
       "Investment Type      0\n",
       "AmountInUSD          0\n",
       "dtype: int64"
      ]
     },
     "execution_count": 41,
     "metadata": {},
     "output_type": "execute_result"
    }
   ],
   "source": [
    "# Verify if all missing values have been handled\n",
    "missing_values = df.isnull().sum()\n",
    "missing_values"
   ]
  },
  {
   "cell_type": "code",
   "execution_count": 43,
   "id": "e457f931-2678-41cc-800c-60ff20d8d641",
   "metadata": {},
   "outputs": [],
   "source": [
    "df.to_csv(\"startup_funding_cleaned.csv\", index=False)"
   ]
  },
  {
   "cell_type": "markdown",
   "id": "86b444a1-896c-41b9-b24b-490c247cf960",
   "metadata": {},
   "source": [
    "# Loading the cleaned dataset"
   ]
  },
  {
   "cell_type": "code",
   "execution_count": null,
   "id": "448d17a2-f1d7-4939-844d-552d2f0b0716",
   "metadata": {},
   "outputs": [],
   "source": [
    "https://drive.google.com/file/d/12WhlDdzaZJ_WQ6mz_90BEW_NMgyCYjKq/view?usp=sharing"
   ]
  },
  {
   "cell_type": "code",
   "execution_count": 46,
   "id": "7b2fdffd-eed3-4215-8117-be60e2c6d7c6",
   "metadata": {},
   "outputs": [
    {
     "name": "stderr",
     "output_type": "stream",
     "text": [
      "Downloading...\n",
      "From: https://drive.google.com/uc?id=12WhlDdzaZJ_WQ6mz_90BEW_NMgyCYjKq\n",
      "To: C:\\Users\\HP\\Jupyter Python programs\\The_Modellers\\startup_funding.csv\n",
      "100%|██████████| 407k/407k [00:00<00:00, 1.64MB/s]"
     ]
    },
    {
     "name": "stdout",
     "output_type": "stream",
     "text": [
      "   Sr No        Date                  Startup Name    Industry Vertical  \\\n",
      "0      1  2020-01-09                        BYJU’S               E-Tech   \n",
      "1      2  2020-01-13                        Shuttl       Transportation   \n",
      "2      3  2020-01-09                     Mamaearth           E-commerce   \n",
      "3      4  2020-01-02  https://www.wealthbucket.in/              FinTech   \n",
      "4      5  2020-01-02                        Fashor  Fashion and Apparel   \n",
      "\n",
      "                             SubVertical City Location  \\\n",
      "0                             E-learning     Bengaluru   \n",
      "1              App based shuttle service       Gurgaon   \n",
      "2  Retailer of baby and toddler products     Bengaluru   \n",
      "3                      Online Investment     New Delhi   \n",
      "4            Embroiled Clothes For Women        Mumbai   \n",
      "\n",
      "              Investors Name       Investment Type AmountInUSD  \n",
      "0    Tiger Global Management  Private Equity Round   200000000  \n",
      "1  Susquehanna Growth Equity              Series C     8048394  \n",
      "2      Sequoia Capital India              Series B    18358860  \n",
      "3             Vinod Khatumal          Pre-series A     3000000  \n",
      "4    Sprout Venture Partners            Seed Round     1800000  \n"
     ]
    },
    {
     "name": "stderr",
     "output_type": "stream",
     "text": [
      "\n"
     ]
    }
   ],
   "source": [
    "# Google Drive file ID\n",
    "file_id = \"12WhlDdzaZJ_WQ6mz_90BEW_NMgyCYjKq\"\n",
    "\n",
    "# Construct the download URL\n",
    "download_url = f\"https://drive.google.com/uc?id={file_id}\"\n",
    "\n",
    "# Download the file\n",
    "cleaned_file = \"startup_funding_cleaned.csv\" \n",
    "gdown.download(download_url, output_file, quiet=False)\n",
    "\n",
    "# Read the CSV file into a Pandas DataFrame\n",
    "df = pd.read_csv(cleaned_file)\n",
    "\n",
    "# Display the first 5 rows\n",
    "print(df.head())\n"
   ]
  },
  {
   "cell_type": "code",
   "execution_count": 48,
   "id": "ad95989d-a06e-4ee6-9a4b-7a34d097f66a",
   "metadata": {},
   "outputs": [
    {
     "name": "stdout",
     "output_type": "stream",
     "text": [
      "You have successfully connected to your database.\n"
     ]
    }
   ],
   "source": [
    "mydb = mysql.connector.connect(\n",
    "    host = \"127.0.0.1\",       \n",
    "    username = \"root\",\n",
    "    password = \"Richa@1621\",\n",
    "    database = \"the_modellers\"\n",
    ")\n",
    "\n",
    "# A custom message that displays if the operation has been successful.\n",
    "print(f\"You have successfully connected to your database.\")"
   ]
  },
  {
   "cell_type": "code",
   "execution_count": 50,
   "id": "12367a51-29b4-481f-8306-db11f205c7f1",
   "metadata": {},
   "outputs": [
    {
     "name": "stdout",
     "output_type": "stream",
     "text": [
      "✅ Data successfully inserted into MySQL!\n"
     ]
    }
   ],
   "source": [
    "import pandas as pd\n",
    "from sqlalchemy import create_engine\n",
    "import mysql.connector\n",
    "\n",
    "# Database connection details\n",
    "DB_HOST = \"127.0.0.1\"  # Database IP address (localhost for local MySQL)\n",
    "DB_PORT = 3306  # Default MySQL port\n",
    "DB_USER = \"root\"  # Your MySQL username\n",
    "DB_PASSWORD = \"Richa%401621\"  # Your MySQL password\n",
    "DB_NAME = \"the_modellers\"  # Database name where the table will be created\n",
    "\n",
    "# Load the downloaded CSV file\n",
    "file_path = \"startup_funding_cleaned.csv\"  # Path to the downloaded CSV file\n",
    "df = pd.read_csv(file_path)\n",
    "\n",
    "# Rename columns for MySQL compatibility\n",
    "df.columns = [\n",
    "    \"Sr_No\", \"Date\", \"Startup_Name\", \"Industry_Vertical\", \"SubVertical\",\n",
    "    \"City_Location\", \"Investors_Name\", \"Investment_Type\", \"Amount_USD\"\n",
    "]\n",
    "\n",
    "# Create SQLAlchemy engine for MySQL\n",
    "engine = create_engine(f\"mysql+mysqlconnector://{DB_USER}:{DB_PASSWORD}@{DB_HOST}:{DB_PORT}/{DB_NAME}\")\n",
    "\n",
    "# Insert Data into MySQL\n",
    "try:\n",
    "    # Insert the DataFrame into a new table in MySQL\n",
    "    df.to_sql(\"startup_funding1\", con=engine, if_exists=\"replace\", index=False)\n",
    "    print(\"✅ Data successfully inserted into MySQL!\")\n",
    "except Exception as e:\n",
    "    print(\"❌ Data insertion failed:\", e)\n"
   ]
  },
  {
   "cell_type": "code",
   "execution_count": null,
   "id": "d44e8d98-3f90-47d7-82ae-52197c905363",
   "metadata": {},
   "outputs": [],
   "source": []
  }
 ],
 "metadata": {
  "kernelspec": {
   "display_name": "Python 3 (ipykernel)",
   "language": "python",
   "name": "python3"
  },
  "language_info": {
   "codemirror_mode": {
    "name": "ipython",
    "version": 3
   },
   "file_extension": ".py",
   "mimetype": "text/x-python",
   "name": "python",
   "nbconvert_exporter": "python",
   "pygments_lexer": "ipython3",
   "version": "3.12.7"
  }
 },
 "nbformat": 4,
 "nbformat_minor": 5
}
